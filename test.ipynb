{
 "cells": [
  {
   "cell_type": "code",
   "execution_count": 1,
   "id": "bcff1805-356b-49a7-9170-3a858a4b9e0f",
   "metadata": {},
   "outputs": [
    {
     "name": "stdout",
     "output_type": "stream",
     "text": [
      "0 )  exampleM1.wdf\n",
      "1 )  exampleA1.wdf\n",
      "2 )  exampleM2.wdf\n",
      "3 )  exampleM3.wdf\n",
      "4 )  exampleA2.wdf\n",
      "6 )  exampleM4.wdf\n"
     ]
    }
   ],
   "source": [
    "%matplotlib widget\n",
    "import os\n",
    "import numpy as np\n",
    "# from scipy import linalg, spatial, fft, signal\n",
    "# from sklearn.experimental import enable_iterative_imputer\n",
    "# from sklearn import metrics, decomposition, impute, preprocessing\n",
    "import matplotlib.pyplot as plt\n",
    "from matplotlib.cm import ScalarMappable\n",
    "from matplotlib import colors, gridspec\n",
    "import seaborn as sns\n",
    "# from matplotlib.patches import RegularPolygon, Rectangle\n",
    "# from PIL import Image, ExifTags, ImageFile\n",
    "import visualize as vis\n",
    "# import CR_search as cr\n",
    "import preprocessing as pp\n",
    "import calculate as cc\n",
    "from read_WDF_class import WDF\n",
    "\n",
    "# ImageFile.LOAD_TRUNCATED_IMAGES = True\n",
    "\n",
    "folder = os.path.expanduser(\"~/Documents/RamanData/\")\n",
    "subfolder = \"frejus21\"\n",
    "files = os.listdir(os.path.join(folder,subfolder))\n",
    "\n",
    "for i, tf in enumerate(files):\n",
    "    if tf[-3:] == 'wdf':\n",
    "        print(i, ') ', tf)  "
   ]
  },
  {
   "cell_type": "code",
   "execution_count": 28,
   "id": "a983a0d8-e833-4e2d-a8d9-a6a2a21da13d",
   "metadata": {},
   "outputs": [
    {
     "name": "stdout",
     "output_type": "stream",
     "text": [
      "Reading the file: \"exampleM3.wdf\"\n",
      "\n",
      "\n",
      "================================= Block : WDF1 =================================\n",
      "size: 512, offset: 0\n",
      "WdfFlag--------------------------------- : \tWdfXYXY\n",
      "PointsPerSpectrum----------------------- : \t1015\n",
      "Capacity-------------------------------- : \t20005\n",
      "Count----------------------------------- : \t20005\n",
      "AccumulationCount----------------------- : \t1\n",
      "YlistLength----------------------------- : \t1\n",
      "XlistLength----------------------------- : \t1015\n",
      "DataOriginCount------------------------- : \t9\n",
      "ApplicationName------------------------- : \tWiRE\n",
      "ApplicationVersion---------------------- : \t5.1.0 build 8867\n",
      "ScanType-------------------------------- : \tStatic\n",
      "MeasurementType------------------------- : \tMap\n",
      "StartTime------------------------------- : \tSat Nov 16 23:03:45 2019\n",
      "EndTime--------------------------------- : \tMon Nov 18 04:01:10 2019\n",
      "SpectralUnits--------------------------- : \tCounts\n",
      "LaserWaveLength------------------------- : \t514.38\n",
      "Title----------------------------------- : \tSimple mapping measurement\n",
      "\n",
      "================================= Block : WMAP =================================\n",
      "size: 64, offset: 82912856\n",
      "MapAreaType----------------------------- : \tInvertedRows\n",
      "InitialCoordinates---------------------- : \t[30740.    7092.    -816.98]\n",
      "StepSizes------------------------------- : \t[1. 1. 1.]\n",
      "NbSteps--------------------------------- : \t[   5 4001    1]\n",
      "LineFocusSize--------------------------- : \t0\n",
      "\n",
      "================================= Block : DATA =================================\n",
      "size: 81220316, offset: 512\n",
      "The number of spectra------------------- : \t20005\n",
      "The number of points in each spectra---- : \t1015\n",
      "\n",
      "================================= Block : XLST =================================\n",
      "size: 4084, offset: 81220856\n",
      "The shape of the x_values is------------ : \t(1015,)\n",
      "*These are the \"Spectral\" recordings in \"RamanShift\" units\n",
      "\n",
      "================================= Block : YLST =================================\n",
      "size: 28, offset: 81220828\n",
      "*Nothing here.\n",
      "\n",
      "================================= Block : WHTL =================================\n",
      "size: 94589, offset: 82818267\n",
      "\n",
      "================================= Block : ORGN =================================\n",
      "size: 1440596, offset: 81227815\n",
      "\n",
      "\n",
      "\n",
      "\n"
     ]
    }
   ],
   "source": [
    "file = files[3]\n",
    "filename = os.path.join(folder,subfolder,file)\n",
    "\n",
    "fff = WDF(filename, verbose=True)"
   ]
  },
  {
   "cell_type": "markdown",
   "id": "576dfb08-9acd-4b9b-b426-8c4457a146e3",
   "metadata": {},
   "source": [
    "### Here are some of the treatments you might apply to your input spectra:\n",
    "Do this first:\n",
    "```python\n",
    "fff = pp.order(fff)\n",
    "```\n",
    "Normalizing:\n",
    "```python\n",
    "fff = pp.normalize(fff)\n",
    "```\n",
    "Selecting the zone of interest:\n",
    "```python\n",
    "fff = pp.select_zone(fff, left=125, right=None)\n",
    "```\n",
    "Removing the Cosmic Rays:\n",
    "```python\n",
    "fff = pp.remove_CRs(fff)\n",
    "```\n",
    "Removing the baseline:\n",
    "(don't do this on the cloud!)\n",
    "```python\n",
    "baseline = cc.baseline_als(fff.spectra, p=0.001)\n",
    "```\n",
    "Clean the spectra with the PCA:\n",
    "```python\n",
    "fff = pp.pca_clean(fff, n_components=21)\n",
    "```"
   ]
  },
  {
   "cell_type": "code",
   "execution_count": 29,
   "id": "56634b3c",
   "metadata": {},
   "outputs": [
    {
     "data": {
      "application/vnd.jupyter.widget-view+json": {
       "model_id": "62f1927962bd450a94bf7da24ac64045",
       "version_major": 2,
       "version_minor": 0
      },
      "text/plain": [
       "Canvas(toolbar=Toolbar(toolitems=[('Home', 'Reset original view', 'home', 'home'), ('Back', 'Back to previous …"
      ]
     },
     "metadata": {},
     "output_type": "display_data"
    }
   ],
   "source": [
    "sns.set_style(\"dark\")\n",
    "show1 = vis.ShowSelected(fff)\n",
    "show1.fig.set_size_inches(8, 6)"
   ]
  },
  {
   "cell_type": "code",
   "execution_count": 4,
   "id": "a73bb1d7-a6be-4034-b125-41b8e6cff335",
   "metadata": {},
   "outputs": [
    {
     "data": {
      "application/vnd.jupyter.widget-view+json": {
       "model_id": "b37b0c41660443ea8aa7d65ffcf9a0fc",
       "version_major": 2,
       "version_minor": 0
      },
      "text/plain": [
       "Canvas(toolbar=Toolbar(toolitems=[('Home', 'Reset original view', 'home', 'home'), ('Back', 'Back to previous …"
      ]
     },
     "metadata": {},
     "output_type": "display_data"
    }
   ],
   "source": [
    "fff.show_grid(alpha=0.3)"
   ]
  },
  {
   "cell_type": "code",
   "execution_count": 5,
   "id": "c0077eea-d425-427b-b633-f92b19438d1e",
   "metadata": {},
   "outputs": [
    {
     "data": {
      "application/vnd.jupyter.widget-view+json": {
       "model_id": "b1f047e3545043dfb02be575ab13a08a",
       "version_major": 2,
       "version_minor": 0
      },
      "text/plain": [
       "Canvas(toolbar=Toolbar(toolitems=[('Home', 'Reset original view', 'home', 'home'), ('Back', 'Back to previous …"
      ]
     },
     "metadata": {},
     "output_type": "display_data"
    }
   ],
   "source": [
    "vis.AllMaps(fff);"
   ]
  },
  {
   "cell_type": "code",
   "execution_count": 30,
   "id": "2b246357-5c80-48a3-8138-ebcf56856c56",
   "metadata": {},
   "outputs": [],
   "source": [
    "fff = pp.remove_CRs(fff)"
   ]
  },
  {
   "cell_type": "code",
   "execution_count": 31,
   "id": "5edd8e4a-1884-4e74-a643-ef90edc40f72",
   "metadata": {},
   "outputs": [],
   "source": [
    "# =============================================================================\n",
    "#                                     PCA...\n",
    "# =============================================================================\n",
    "fff = pp.pca_clean(fff, n_components=25)"
   ]
  },
  {
   "cell_type": "code",
   "execution_count": 32,
   "id": "a2876188-5a34-4a29-8808-00703f4342c4",
   "metadata": {},
   "outputs": [
    {
     "name": "stderr",
     "output_type": "stream",
     "text": [
      "/home/dejan/anaconda3/envs/Raman/lib/python3.8/site-packages/sklearn/decomposition/_nmf.py:1637: ConvergenceWarning: Maximum number of iterations 33 reached. Increase it to improve convergence.\n",
      "  warnings.warn(\n"
     ]
    }
   ],
   "source": [
    "mix, components, reconstucted_spectra = cc.deconvolute_nmf(fff, 2, max_iter=33)"
   ]
  },
  {
   "cell_type": "code",
   "execution_count": 33,
   "id": "8007a93d-87ac-4683-ab75-9894301174c1",
   "metadata": {},
   "outputs": [
    {
     "data": {
      "application/vnd.jupyter.widget-view+json": {
       "model_id": "7eb41e0092184b92bddaed24ba1232cc",
       "version_major": 2,
       "version_minor": 0
      },
      "text/plain": [
       "Canvas(toolbar=Toolbar(toolitems=[('Home', 'Reset original view', 'home', 'home'), ('Back', 'Back to previous …"
      ]
     },
     "metadata": {},
     "output_type": "display_data"
    }
   ],
   "source": [
    "_n_components = len(components)\n",
    "\n",
    "spectra_reconstructed = np.dot(mix, components)\n",
    "_mix_reshaped = mix.reshape(fff.n_y, fff.n_x, _n_components)\n",
    "\n",
    "col_norm = colors.Normalize(vmin=0, vmax=_n_components)\n",
    "color_set = ScalarMappable(norm=col_norm, cmap=\"brg\")\n",
    "\n",
    "# infer the number of subplots and their disposition from n_components\n",
    "fi, _ax = plt.subplots(int(np.floor(np.sqrt(_n_components))),\n",
    "                       int(np.ceil(_n_components /\n",
    "                                   np.floor(np.sqrt(_n_components))\n",
    "                                   )))\n",
    "if _n_components > 1:\n",
    "    _ax = _ax.ravel()\n",
    "else:\n",
    "    _ax = [_ax]\n",
    "for _i in range(_n_components):\n",
    "    _ax[_i].plot(fff.x_values, components[_i].T, color=color_set.to_rgba(_i))\n",
    "    _ax[_i].set_title(f'Component {_i}')\n",
    "    _ax[_i].set_yticks([])\n",
    "try:\n",
    "    fi.text(0.5, 0.04,\n",
    "            f\"{params['XlistDataType']} recordings\"\n",
    "            f\"in {params['XlistDataUnits']} units\",\n",
    "            ha='center')\n",
    "except:\n",
    "    pass"
   ]
  },
  {
   "cell_type": "code",
   "execution_count": 35,
   "id": "5d9de079-21bd-4645-96ce-c983728b0e93",
   "metadata": {
    "tags": []
   },
   "outputs": [
    {
     "name": "stdout",
     "output_type": "stream",
     "text": [
      "1 2\n"
     ]
    },
    {
     "data": {
      "application/vnd.jupyter.widget-view+json": {
       "model_id": "b44733094f41460aa2f9247a07102095",
       "version_major": 2,
       "version_minor": 0
      },
      "text/plain": [
       "Canvas(toolbar=Toolbar(toolitems=[('Home', 'Reset original view', 'home', 'home'), ('Back', 'Back to previous …"
      ]
     },
     "metadata": {},
     "output_type": "display_data"
    },
    {
     "name": "stdout",
     "output_type": "stream",
     "text": [
      "0 (0, 0)\n",
      "1 (0, 1)\n"
     ]
    },
    {
     "data": {
      "text/plain": [
       "9"
      ]
     },
     "execution_count": 35,
     "metadata": {},
     "output_type": "execute_result"
    }
   ],
   "source": [
    "# %%\n",
    "# =============================================================================\n",
    "#                       Plotting the main plot...(heatmap)\n",
    "# =============================================================================\n",
    "_start_pos = 0\n",
    "_n_fig_rows = int(np.floor(np.sqrt(_n_components)))\n",
    "_n_fig_cols = int(np.ceil(_n_components / np.floor(np.sqrt(_n_components))))\n",
    "\n",
    "print(_n_fig_rows, _n_fig_cols)\n",
    "fig = plt.figure()\n",
    "gs = gridspec.GridSpec(_n_fig_rows+1, _n_fig_cols, left=0.05, right=0.98, wspace=0.05)\n",
    "_ax=[]\n",
    "for i in range(_n_fig_rows):\n",
    "    for j in range(_n_fig_cols):\n",
    "        print(i*_n_fig_cols + j, (i, j))\n",
    "        _ax.append(fig.add_subplot(gs[i, j]))\n",
    "if _n_components <= 1:\n",
    "    _ax = [_ax]\n",
    "ax_spectra = fig.add_subplot(gs[_n_fig_rows,:])\n",
    "spectra_flag = False\n",
    "def onclick(event):\n",
    "    '''Double-clicking on a pixel will show the (cleaned) spectrum\n",
    "    corresponding to that pixel, as well as its deconvolution on the components\n",
    "    and again the reconstruction for visual comparison'''\n",
    "    global ax_spectra, spectra_flag, sp_l, rs_l, c_l\n",
    "    if event.inaxes:\n",
    "        x_pos = round(event.xdata)\n",
    "        y_pos = round(event.ydata)\n",
    "        broj = round(y_pos*fff.n_x + x_pos)\n",
    "        spec_num = np.round(y_pos*fff.n_x - _start_pos + x_pos)\n",
    "        if spectra_flag:\n",
    "            if event.button!=1:\n",
    "                sp_l.set_ydata(fff.spectra[spec_num])\n",
    "                sp_l.set_label(f'(cleaned) spectrum n°{broj}')\n",
    "                rs_l.set_ydata(spectra_reconstructed[broj])\n",
    "                for k in range(_n_components):\n",
    "                    c_l[k].set_ydata(components[k]*mix[broj][k])\n",
    "                    c_l[k].set_label(f'C {k} = {100*mix[broj][k]/(np.sum(mix[broj])):.1f}%)')\n",
    "                            \n",
    "                # ax_spectra.plot(fff.x_values, fff.spectra[spec_num], 'o', alpha=0.3,\n",
    "                #            label=f'(cleaned) spectrum n°{broj}')\n",
    "                # ax_spectra.plot(fff.x_values, spectra_reconstructed[broj], '--k',\n",
    "                #         label='reconstructed spectrum')\n",
    "                # for k in range(_n_components):\n",
    "                #     ax_spectra.plot(fff.x_values, components[k]*mix[broj][k],\n",
    "                #             color=color_set.to_rgba(k),\n",
    "                #             label=f'Component {k} contribution'\n",
    "                #                   f'({100*mix[broj][k]/(np.sum(mix[broj])):.1f}%)')\n",
    "                ax_spectra.legend()\n",
    "\n",
    "        elif event.button!=1:\n",
    "            spectra_flag = True\n",
    "            sp_l, = ax_spectra.plot(fff.x_values, fff.spectra[spec_num], 'o', alpha=0.3,\n",
    "                       label=f'(cleaned) spectrum n°{broj}')\n",
    "            rs_l, = ax_spectra.plot(fff.x_values, spectra_reconstructed[broj], '--k',\n",
    "                    label='reconstructed spectrum')\n",
    "            c_l = []\n",
    "            for k in range(_n_components):\n",
    "                c_l.append(*ax_spectra.plot(fff.x_values, components[k]*mix[broj][k],\n",
    "                        color=color_set.to_rgba(k),\n",
    "                        label=f'C {k} = {100*mix[broj][k]/(np.sum(mix[broj])):.1f}%)'))\n",
    "\n",
    "\n",
    "            ax_spectra.set_title(f'deconvolution of the spectrum from: '\n",
    "                         f'line {y_pos} & column {x_pos}')\n",
    "            ax_spectra.legend()\n",
    "            fig.show()\n",
    "    else:\n",
    "        pass\n",
    "\n",
    "\n",
    "_xcolumn_name = 'X (Micron)'\n",
    "_ycolumn_name = 'Y (Micron)'\n",
    "\n",
    "#################################################################################\n",
    "############## This formatting should be adapted case by case ###################\n",
    "try:\n",
    "    _y_ticks = [str(int(x/1000))+'mm' for x in\n",
    "                np.asarray(origins[_ycolumn_name].iloc[:fff.n_x*fff.n_y:fff.n_x])]\n",
    "    _x_ticks = [str(int(x/1000))+'mm' for x in\n",
    "                np.asarray(origins[_xcolumn_name].iloc[:fff.n_x])]\n",
    "except:\n",
    "    pass\n",
    "#################################################################################\n",
    "\n",
    "\n",
    "for _i in range(_n_components):\n",
    "    sns.heatmap(_mix_reshaped[:, :, _i], ax=_ax[_i], cmap=\"jet\", annot=False)\n",
    "#    _ax[_i].set_aspect(_s_y/_s_x)\n",
    "    _ax[_i].set_title(f'Component {_i}', color=color_set.to_rgba(_i),\n",
    "                      fontweight='extra bold')\n",
    "fig.suptitle('Heatmaps showing the abundance of individual components'\n",
    "             ' throughout the scanned area.')\n",
    "fig.canvas.mpl_connect('button_press_event', onclick)"
   ]
  },
  {
   "cell_type": "code",
   "execution_count": 42,
   "id": "60624dd9-66f5-4744-acb6-066e155b1499",
   "metadata": {},
   "outputs": [],
   "source": [
    "plt.close('all')"
   ]
  },
  {
   "cell_type": "code",
   "execution_count": 34,
   "id": "e416d88a-1bb7-439b-865b-47b12ccd8149",
   "metadata": {},
   "outputs": [],
   "source": [
    "d = {\"Angelique\": 43, \"Noemi\": 23, \"DFSG\":33}"
   ]
  },
  {
   "cell_type": "code",
   "execution_count": 36,
   "id": "c018debb-5a25-428f-acd4-e28f56a4ab96",
   "metadata": {},
   "outputs": [],
   "source": [
    "d_inv = dict()\n",
    "for key, val in d.items():\n",
    "    d_inv[val] = key"
   ]
  },
  {
   "cell_type": "code",
   "execution_count": 37,
   "id": "6964b2fc-f8a1-47a2-a23f-f80dfa8d7da1",
   "metadata": {},
   "outputs": [
    {
     "data": {
      "text/plain": [
       "{43: 'Angelique', 23: 'Noemi', 33: 'DFSG'}"
      ]
     },
     "execution_count": 37,
     "metadata": {},
     "output_type": "execute_result"
    }
   ],
   "source": [
    "d_inv"
   ]
  },
  {
   "cell_type": "code",
   "execution_count": 12,
   "id": "07005223-22e5-451d-8e83-99a83e260bd0",
   "metadata": {},
   "outputs": [
    {
     "data": {
      "text/plain": [
       "(array([0.65352941, 0.38176471, 0.11      ]),\n",
       " array([0.88      , 0.60823529, 0.33647059]),\n",
       " array([0.05      , 0.52634146]),\n",
       " array([0.50365854, 0.98      ]))"
      ]
     },
     "execution_count": 12,
     "metadata": {},
     "output_type": "execute_result"
    }
   ],
   "source": [
    "gs.get_grid_positions(fig)"
   ]
  },
  {
   "cell_type": "code",
   "execution_count": null,
   "id": "a054b1a2-d904-42bc-9304-c30fdc413d3e",
   "metadata": {},
   "outputs": [],
   "source": []
  }
 ],
 "metadata": {
  "kernelspec": {
   "display_name": "Raman",
   "language": "python",
   "name": "raman"
  },
  "language_info": {
   "codemirror_mode": {
    "name": "ipython",
    "version": 3
   },
   "file_extension": ".py",
   "mimetype": "text/x-python",
   "name": "python",
   "nbconvert_exporter": "python",
   "pygments_lexer": "ipython3",
   "version": "3.8.11"
  }
 },
 "nbformat": 4,
 "nbformat_minor": 5
}
