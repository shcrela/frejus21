{
 "cells": [
  {
   "cell_type": "code",
   "execution_count": 1,
   "id": "bcff1805-356b-49a7-9170-3a858a4b9e0f",
   "metadata": {},
   "outputs": [],
   "source": [
    "%matplotlib widget\n",
    "import os\n",
    "import numpy as np\n",
    "import matplotlib.pyplot as plt\n",
    "from matplotlib.cm import ScalarMappable\n",
    "from matplotlib import colors, gridspec\n",
    "import seaborn as sns\n",
    "import visualize as vis\n",
    "\n",
    "import preprocessing as pp\n",
    "import calculate as cc\n",
    "from read_WDF_class import WDF\n",
    "\n",
    "\n",
    "folder = \"/data/2021-10-03-EcoleVerreEtDiffusion/\"\n",
    "filename = \"exampleM4.wdf\"\n",
    "filepath = os.path.join(folder, filename)"
   ]
  },
  {
   "cell_type": "code",
   "execution_count": 2,
   "id": "a983a0d8-e833-4e2d-a8d9-a6a2a21da13d",
   "metadata": {},
   "outputs": [
    {
     "name": "stdout",
     "output_type": "stream",
     "text": [
      "Reading the file: \"exampleM4.wdf\"\n",
      "\n",
      "\n",
      "================================= Block : WDF1 =================================\n",
      "size: 512, offset: 0\n",
      "WdfFlag--------------------------------- : \tWdfXYXY\n",
      "PointsPerSpectrum----------------------- : \t1015\n",
      "Capacity-------------------------------- : \t46440\n",
      "Count----------------------------------- : \t46440\n",
      "AccumulationCount----------------------- : \t1\n",
      "YlistLength----------------------------- : \t1\n",
      "XlistLength----------------------------- : \t1015\n",
      "DataOriginCount------------------------- : \t5\n",
      "ApplicationName------------------------- : \tWiRE\n",
      "ApplicationVersion---------------------- : \t5.1.0 build 8867\n",
      "ScanType-------------------------------- : \tStreamLine\n",
      "MeasurementType------------------------- : \tMap\n",
      "StartTime------------------------------- : \tThu Oct 10 15:58:30 2019\n",
      "EndTime--------------------------------- : \tFri Oct 11 11:39:48 2019\n",
      "SpectralUnits--------------------------- : \tCounts\n",
      "LaserWaveLength------------------------- : \t514.38\n",
      "Title----------------------------------- : \tStreamLine image acquisition\n",
      "\n",
      "================================= Block : WMAP =================================\n",
      "size: 64, offset: 190635693\n",
      "MapAreaType----------------------------- : \tAlternating2\n",
      "InitialCoordinates---------------------- : \t[ 1000.  13923.   -100.7]\n",
      "StepSizes------------------------------- : \t[ 39. -39.   1.]\n",
      "NbSteps--------------------------------- : \t[180 258   1]\n",
      "LineFocusSize--------------------------- : \t0\n",
      "\n",
      "================================= Block : DATA =================================\n",
      "size: 188546416, offset: 512\n",
      "The number of spectra------------------- : \t46440\n",
      "The number of points in each spectra---- : \t1015\n",
      "\n",
      "================================= Block : XLST =================================\n",
      "size: 4084, offset: 188546956\n",
      "The shape of the x_values is------------ : \t(1015,)\n",
      "*These are the \"Spectral\" recordings in \"RamanShift\" units\n",
      "\n",
      "================================= Block : YLST =================================\n",
      "size: 28, offset: 188546928\n",
      "*Nothing here.\n",
      "\n",
      "================================= Block : WHTL =================================\n",
      "size: 84531, offset: 190551162\n",
      "\n",
      "================================= Block : ORGN =================================\n",
      "size: 1857740, offset: 188553482\n",
      "\n",
      "\n",
      "\n",
      "\n"
     ]
    }
   ],
   "source": [
    "fff = WDF(filepath, verbose=True)"
   ]
  },
  {
   "cell_type": "markdown",
   "id": "576dfb08-9acd-4b9b-b426-8c4457a146e3",
   "metadata": {
    "tags": []
   },
   "source": [
    "### Here are some of the treatments you might apply to your input spectra:\n",
    "Do this first:\n",
    "```python\n",
    "fff = pp.order(fff)\n",
    "```\n",
    "Normalizing:\n",
    "```python\n",
    "fff = pp.normalize(fff)\n",
    "```\n",
    "Selecting the zone of interest:\n",
    "```python\n",
    "fff = pp.select_zone(fff, left=125, right=None)\n",
    "```\n",
    "Removing the Cosmic Rays:\n",
    "```python\n",
    "fff = pp.remove_CRs(fff)\n",
    "```\n",
    "Removing the baseline:\n",
    "(don't do this on the cloud!)\n",
    "```python\n",
    "baseline = cc.baseline_als(fff.spectra, p=0.001)\n",
    "```\n",
    "Clean the spectra with the PCA:\n",
    "```python\n",
    "fff = pp.pca_clean(fff, n_components=21)\n",
    "```"
   ]
  },
  {
   "cell_type": "code",
   "execution_count": 45,
   "id": "56634b3c",
   "metadata": {
    "tags": []
   },
   "outputs": [
    {
     "data": {
      "application/vnd.jupyter.widget-view+json": {
       "model_id": "4db6d9b9d3c44c859f623f778f4fe055",
       "version_major": 2,
       "version_minor": 0
      },
      "text/plain": [
       "Canvas(toolbar=Toolbar(toolitems=[('Home', 'Reset original view', 'home', 'home'), ('Back', 'Back to previous …"
      ]
     },
     "metadata": {},
     "output_type": "display_data"
    }
   ],
   "source": [
    "sns.set_style(\"dark\")\n",
    "show1 = vis.ShowSelected(fff)\n",
    "show1.fig.set_size_inches(8, 6)"
   ]
  },
  {
   "cell_type": "code",
   "execution_count": 3,
   "id": "2b246357-5c80-48a3-8138-ebcf56856c56",
   "metadata": {},
   "outputs": [],
   "source": [
    "fff = pp.order(fff)\n"
   ]
  },
  {
   "cell_type": "code",
   "execution_count": 4,
   "id": "5edd8e4a-1884-4e74-a643-ef90edc40f72",
   "metadata": {},
   "outputs": [],
   "source": [
    "# =============================================================================\n",
    "#                                     PCA...\n",
    "# =============================================================================\n",
    "fff = pp.pca_clean(fff, n_components=21)"
   ]
  },
  {
   "cell_type": "code",
   "execution_count": 5,
   "id": "bbdf8714-1ea5-4707-aed0-948d13c20acf",
   "metadata": {},
   "outputs": [
    {
     "name": "stderr",
     "output_type": "stream",
     "text": [
      "/home/dejan/anaconda3/envs/Raman/lib/python3.8/site-packages/sklearn/decomposition/_nmf.py:1637: ConvergenceWarning: Maximum number of iterations 133 reached. Increase it to improve convergence.\n",
      "  warnings.warn(\n"
     ]
    }
   ],
   "source": [
    "fff = pp.normalize(fff, method=\"area\")\n",
    "mix, components, reconstucted_spectra = cc.deconvolute_nmf(fff, 3, max_iter=133)\n",
    "\n",
    "norma = np.linalg.norm(components, axis=-1, keepdims=True)\n",
    "norma = np.trapz(components, x=fff.x_values, axis=-1)[:, None]\n",
    "components /= norma\n",
    "mix *= norma.T"
   ]
  },
  {
   "cell_type": "code",
   "execution_count": 6,
   "id": "8007a93d-87ac-4683-ab75-9894301174c1",
   "metadata": {
    "tags": []
   },
   "outputs": [
    {
     "data": {
      "application/vnd.jupyter.widget-view+json": {
       "model_id": "a354ca2734d84043a6bd66f12f16dfce",
       "version_major": 2,
       "version_minor": 0
      },
      "text/plain": [
       "Canvas(toolbar=Toolbar(toolitems=[('Home', 'Reset original view', 'home', 'home'), ('Back', 'Back to previous …"
      ]
     },
     "metadata": {},
     "output_type": "display_data"
    }
   ],
   "source": [
    "_n_components = len(components)\n",
    "\n",
    "spectra_reconstructed = np.dot(mix, components)\n",
    "_mix_reshaped = mix.reshape(fff.n_y, fff.n_x, _n_components)\n",
    "\n",
    "col_norm = colors.Normalize(vmin=0, vmax=_n_components)\n",
    "color_set = ScalarMappable(norm=col_norm, cmap=\"brg\")\n",
    "\n",
    "# infer the number of subplots and their disposition from n_components\n",
    "fi, _ax = plt.subplots(int(np.floor(np.sqrt(_n_components))),\n",
    "                       int(np.ceil(_n_components /\n",
    "                                   np.floor(np.sqrt(_n_components))\n",
    "                                   )))\n",
    "if _n_components > 1:\n",
    "    _ax = _ax.ravel()\n",
    "else:\n",
    "    _ax = [_ax]\n",
    "for _i in range(_n_components):\n",
    "    _ax[_i].plot(fff.x_values, components[_i].T, color=color_set.to_rgba(_i))\n",
    "    _ax[_i].set_title(f'Component {_i}')\n",
    "    _ax[_i].set_yticks([])\n",
    "try:\n",
    "    fi.text(0.5, 0.04,\n",
    "            f\"{params['XlistDataType']} recordings\"\n",
    "            f\"in {params['XlistDataUnits']} units\",\n",
    "            ha='center')\n",
    "except:\n",
    "    pass"
   ]
  },
  {
   "cell_type": "code",
   "execution_count": 7,
   "id": "5d9de079-21bd-4645-96ce-c983728b0e93",
   "metadata": {
    "tags": []
   },
   "outputs": [
    {
     "data": {
      "application/vnd.jupyter.widget-view+json": {
       "model_id": "b5c27ede700d4083b3a5eff21bbb94ec",
       "version_major": 2,
       "version_minor": 0
      },
      "text/plain": [
       "Canvas(toolbar=Toolbar(toolitems=[('Home', 'Reset original view', 'home', 'home'), ('Back', 'Back to previous …"
      ]
     },
     "metadata": {},
     "output_type": "display_data"
    },
    {
     "data": {
      "text/plain": [
       "9"
      ]
     },
     "execution_count": 7,
     "metadata": {},
     "output_type": "execute_result"
    }
   ],
   "source": [
    "# %%\n",
    "# =============================================================================\n",
    "#                       Plotting the main plot...(heatmap)\n",
    "# =============================================================================\n",
    "_start_pos = 0\n",
    "_n_fig_rows = int(np.floor(np.sqrt(_n_components)))\n",
    "_n_fig_cols = int(np.ceil(_n_components / np.floor(np.sqrt(_n_components))))\n",
    "\n",
    "fig = plt.figure()\n",
    "gs = gridspec.GridSpec(_n_fig_rows+1, _n_fig_cols, left=0.05, right=0.98, wspace=0.05)\n",
    "_ax=[]\n",
    "for i in range(_n_fig_rows):\n",
    "    for j in range(_n_fig_cols):\n",
    "        _ax.append(fig.add_subplot(gs[i, j]))\n",
    "if _n_components <= 1:\n",
    "    _ax = [_ax]\n",
    "ax_spectra = fig.add_subplot(gs[_n_fig_rows,:])\n",
    "spectra_flag = False\n",
    "def onclick(event):\n",
    "    '''Double-clicking on a pixel will show the (cleaned) spectrum\n",
    "    corresponding to that pixel, as well as its deconvolution on the components\n",
    "    and again the reconstruction for visual comparison'''\n",
    "    global ax_spectra, spectra_flag, sp_l, rs_l, c_l\n",
    "    if event.inaxes:\n",
    "        x_pos = round(event.xdata)\n",
    "        y_pos = round(event.ydata)\n",
    "        broj = round(y_pos*fff.n_x + x_pos)\n",
    "        spec_num = np.round(y_pos*fff.n_x - _start_pos + x_pos)\n",
    "        if spectra_flag:\n",
    "            if event.button!=1:\n",
    "                sp_l.set_ydata(fff.spectra[spec_num])\n",
    "                sp_l.set_label(f'(cleaned) spectrum n°{broj}')\n",
    "                rs_l.set_ydata(spectra_reconstructed[broj])\n",
    "                for k in range(_n_components):\n",
    "                    c_l[k].set_ydata(components[k]*mix[broj][k])\n",
    "                    c_l[k].set_label(f'C {k} = {100*mix[broj][k]/(np.sum(mix[broj])):.1f}%)')\n",
    " \n",
    "                ax_spectra.relim()\n",
    "                ax_spectra.legend()\n",
    "\n",
    "        elif event.button!=1:\n",
    "            spectra_flag = True\n",
    "            sp_l, = ax_spectra.plot(fff.x_values, fff.spectra[spec_num], 'o', alpha=0.3,\n",
    "                       label=f'(cleaned) spectrum n°{broj}')\n",
    "            rs_l, = ax_spectra.plot(fff.x_values, spectra_reconstructed[broj], '--k',\n",
    "                    label='reconstructed spectrum')\n",
    "            c_l = []\n",
    "            for k in range(_n_components):\n",
    "                c_l.append(*ax_spectra.plot(fff.x_values, components[k]*mix[broj][k],\n",
    "                        color=color_set.to_rgba(k),\n",
    "                        label=f'C {k} = {100*mix[broj][k]/(np.sum(mix[broj])):.1f}%)'))\n",
    "\n",
    "\n",
    "            ax_spectra.set_title(f'deconvolution of the spectrum from: '\n",
    "                         f'line {y_pos} & column {x_pos}')\n",
    "            ax_spectra.legend()\n",
    "            fig.show()\n",
    "    else:\n",
    "        pass\n",
    "\n",
    "for _i in range(_n_components):\n",
    "    sns.heatmap(_mix_reshaped[:, :, _i], ax=_ax[_i], cmap=\"jet\", annot=False)\n",
    "#    _ax[_i].set_aspect(_s_y/_s_x)\n",
    "    _ax[_i].set_title(f'Component {_i}', color=color_set.to_rgba(_i),\n",
    "                      fontweight='extra bold')\n",
    "fig.suptitle('Heatmaps showing the abundance of individual components'\n",
    "             ' throughout the scanned area.');\n",
    "fig.canvas.mpl_connect('button_press_event', onclick)"
   ]
  },
  {
   "cell_type": "code",
   "execution_count": null,
   "id": "a054b1a2-d904-42bc-9304-c30fdc413d3e",
   "metadata": {},
   "outputs": [],
   "source": []
  }
 ],
 "metadata": {
  "kernelspec": {
   "display_name": "Raman",
   "language": "python",
   "name": "raman"
  },
  "language_info": {
   "codemirror_mode": {
    "name": "ipython",
    "version": 3
   },
   "file_extension": ".py",
   "mimetype": "text/x-python",
   "name": "python",
   "nbconvert_exporter": "python",
   "pygments_lexer": "ipython3",
   "version": "3.8.11"
  }
 },
 "nbformat": 4,
 "nbformat_minor": 5
}
