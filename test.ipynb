{
 "cells": [
  {
   "cell_type": "code",
   "execution_count": 31,
   "id": "bcff1805-356b-49a7-9170-3a858a4b9e0f",
   "metadata": {},
   "outputs": [],
   "source": [
    "%matplotlib widget\n",
    "import os\n",
    "import numpy as np\n",
    "import pandas as pd\n",
    "import matplotlib.pyplot as plt\n",
    "from matplotlib.cm import ScalarMappable\n",
    "from matplotlib import colors, gridspec\n",
    "import seaborn as sns\n",
    "import visualize as vis\n",
    "import preprocessing as pp\n",
    "import calculate as cc\n",
    "from read_WDF_class import WDF\n",
    "\n",
    "\n",
    "folder = \"/data/2021-10-03-EcoleVerreEtDiffusion/\"\n",
    "filename = \"exampleM2.wdf\"\n",
    "filepath = os.path.join(folder, filename)"
   ]
  },
  {
   "cell_type": "code",
   "execution_count": 32,
   "id": "a983a0d8-e833-4e2d-a8d9-a6a2a21da13d",
   "metadata": {},
   "outputs": [
    {
     "name": "stdout",
     "output_type": "stream",
     "text": [
      "Reading the file: \"exampleM2.wdf\"\n",
      "\n",
      "\n",
      "================================= Block : WDF1 =================================\n",
      "size: 512, offset: 0\n",
      "WdfFlag--------------------------------- : \tWdfXYXY\n",
      "PointsPerSpectrum----------------------- : \t1015\n",
      "Capacity-------------------------------- : \t68134\n",
      "Count----------------------------------- : \t68134\n",
      "AccumulationCount----------------------- : \t1\n",
      "YlistLength----------------------------- : \t1\n",
      "XlistLength----------------------------- : \t1015\n",
      "DataOriginCount------------------------- : \t5\n",
      "ApplicationName------------------------- : \tWiRE\n",
      "ApplicationVersion---------------------- : \t5.1.0 build 8867\n",
      "ScanType-------------------------------- : \tStreamLine\n",
      "MeasurementType------------------------- : \tMap\n",
      "StartTime------------------------------- : \tThu Oct 17 15:08:26 2019\n",
      "EndTime--------------------------------- : \tFri Oct 18 05:35:34 2019\n",
      "SpectralUnits--------------------------- : \tCounts\n",
      "LaserWaveLength------------------------- : \t514.38\n",
      "Title----------------------------------- : \tStreamLine image acquisition 1\n",
      "\n",
      "================================= Block : WMAP =================================\n",
      "size: 64, offset: 279701660\n",
      "MapAreaType----------------------------- : \tAlternating2\n",
      "InitialCoordinates---------------------- : \t[ 1000. 13985.  -100.]\n",
      "StepSizes------------------------------- : \t[ 33.8 -33.8   1. ]\n",
      "NbSteps--------------------------------- : \t[209 326   1]\n",
      "LineFocusSize--------------------------- : \t0\n",
      "\n",
      "================================= Block : DATA =================================\n",
      "size: 276624056, offset: 512\n",
      "The number of spectra------------------- : \t68134\n",
      "The number of points in each spectra---- : \t1015\n",
      "\n",
      "================================= Block : XLST =================================\n",
      "size: 4084, offset: 276624596\n",
      "The shape of the x_values is------------ : \t(1015,)\n",
      "*These are the \"Spectral\" recordings in \"RamanShift\" units\n",
      "\n",
      "================================= Block : YLST =================================\n",
      "size: 28, offset: 276624568\n",
      "*Nothing here.\n",
      "\n",
      "================================= Block : WHTL =================================\n",
      "size: 144384, offset: 279557276\n",
      "\n",
      "================================= Block : ORGN =================================\n",
      "size: 2725500, offset: 276631207\n",
      "\n",
      "\n",
      "\n",
      "\n"
     ]
    }
   ],
   "source": [
    "fff = WDF(filepath, verbose=True)"
   ]
  },
  {
   "cell_type": "markdown",
   "id": "576dfb08-9acd-4b9b-b426-8c4457a146e3",
   "metadata": {
    "tags": []
   },
   "source": [
    "### Here are some of the treatments you might apply to your input spectra:\n",
    "Do this first:\n",
    "```python\n",
    "fff = pp.order(fff)\n",
    "```\n",
    "Normalizing:\n",
    "```python\n",
    "fff = pp.normalize(fff)\n",
    "```\n",
    "Selecting the zone of interest:\n",
    "```python\n",
    "fff = pp.select_zone(fff, left=125, right=None)\n",
    "```\n",
    "Removing the Cosmic Rays:\n",
    "```python\n",
    "fff = pp.remove_CRs(fff)\n",
    "```\n",
    "Removing the baseline:\n",
    "(don't do this on the cloud!)\n",
    "```python\n",
    "baseline = cc.baseline_als(fff.spectra, p=0.001)\n",
    "```\n",
    "Clean the spectra with the PCA:\n",
    "```python\n",
    "fff = pp.pca_clean(fff, n_components=21)\n",
    "```"
   ]
  },
  {
   "cell_type": "code",
   "execution_count": 37,
   "id": "5e3afe70-abb7-4ca3-9880-7ea7a79d1e9b",
   "metadata": {},
   "outputs": [
    {
     "data": {
      "text/plain": [
       "{'MapAreaType': 'Alternating2',\n",
       " 'InitialCoordinates': array([ 1000., 13985.,  -100.], dtype=float32),\n",
       " 'StepSizes': array([ 33.8, -33.8,   1. ], dtype=float32),\n",
       " 'NbSteps': array([209, 326,   1], dtype=uint32),\n",
       " 'LineFocusSize': 0}"
      ]
     },
     "execution_count": 37,
     "metadata": {},
     "output_type": "execute_result"
    }
   ],
   "source": [
    "fff.map_params[\"NbSteps\"]"
   ]
  },
  {
   "cell_type": "code",
   "execution_count": 39,
   "id": "661f8c73-5313-45bf-b9e0-40c8e6081c66",
   "metadata": {},
   "outputs": [
    {
     "data": {
      "text/plain": [
       "((57684, 1015), 276)"
      ]
     },
     "execution_count": 39,
     "metadata": {},
     "output_type": "execute_result"
    }
   ],
   "source": [
    "fff.spectra.shape, fff.n_y"
   ]
  },
  {
   "cell_type": "code",
   "execution_count": 34,
   "id": "7a06317b-13f8-40b3-b9fd-fdbb4db01ebf",
   "metadata": {},
   "outputs": [],
   "source": [
    "fff.spectra = fff.spectra.reshape(fff.n_y, fff.n_x, -1)[50:,:,:].reshape(-1, fff.npoints)\n",
    "fff.n_y -= 50"
   ]
  },
  {
   "cell_type": "code",
   "execution_count": 36,
   "id": "56634b3c",
   "metadata": {
    "tags": []
   },
   "outputs": [
    {
     "ename": "ValueError",
     "evalue": "cannot reshape array of size 58549260 into shape (326,209,1015)",
     "output_type": "error",
     "traceback": [
      "\u001b[0;31m---------------------------------------------------------------------------\u001b[0m",
      "\u001b[0;31mValueError\u001b[0m                                Traceback (most recent call last)",
      "\u001b[0;32m/tmp/ipykernel_4597/4227324689.py\u001b[0m in \u001b[0;36m<module>\u001b[0;34m\u001b[0m\n\u001b[1;32m      1\u001b[0m \u001b[0msns\u001b[0m\u001b[0;34m.\u001b[0m\u001b[0mset_style\u001b[0m\u001b[0;34m(\u001b[0m\u001b[0;34m\"dark\"\u001b[0m\u001b[0;34m)\u001b[0m\u001b[0;34m\u001b[0m\u001b[0;34m\u001b[0m\u001b[0m\n\u001b[0;32m----> 2\u001b[0;31m \u001b[0mshow1\u001b[0m \u001b[0;34m=\u001b[0m \u001b[0mvis\u001b[0m\u001b[0;34m.\u001b[0m\u001b[0mShowSelected\u001b[0m\u001b[0;34m(\u001b[0m\u001b[0mfff\u001b[0m\u001b[0;34m)\u001b[0m\u001b[0;34m\u001b[0m\u001b[0;34m\u001b[0m\u001b[0m\n\u001b[0m\u001b[1;32m      3\u001b[0m \u001b[0mshow1\u001b[0m\u001b[0;34m.\u001b[0m\u001b[0mfig\u001b[0m\u001b[0;34m.\u001b[0m\u001b[0mset_size_inches\u001b[0m\u001b[0;34m(\u001b[0m\u001b[0;36m8\u001b[0m\u001b[0;34m,\u001b[0m \u001b[0;36m6\u001b[0m\u001b[0;34m)\u001b[0m\u001b[0;34m\u001b[0m\u001b[0;34m\u001b[0m\u001b[0m\n",
      "\u001b[0;32m~/Documents/scripts_reusable/RadniFolder/frejus21/visualize.py\u001b[0m in \u001b[0;36m__init__\u001b[0;34m(self, map_spectra, x)\u001b[0m\n\u001b[1;32m    560\u001b[0m             \u001b[0mself\u001b[0m\u001b[0;34m.\u001b[0m\u001b[0mx\u001b[0m \u001b[0;34m=\u001b[0m \u001b[0mnp\u001b[0m\u001b[0;34m.\u001b[0m\u001b[0marange\u001b[0m\u001b[0;34m(\u001b[0m\u001b[0mself\u001b[0m\u001b[0;34m.\u001b[0m\u001b[0mnshifts\u001b[0m\u001b[0;34m)\u001b[0m\u001b[0;34m\u001b[0m\u001b[0;34m\u001b[0m\u001b[0m\n\u001b[1;32m    561\u001b[0m \u001b[0;34m\u001b[0m\u001b[0m\n\u001b[0;32m--> 562\u001b[0;31m         \u001b[0mself\u001b[0m\u001b[0;34m.\u001b[0m\u001b[0mmap_spectra\u001b[0m \u001b[0;34m=\u001b[0m \u001b[0mself\u001b[0m\u001b[0;34m.\u001b[0m\u001b[0mspectra\u001b[0m\u001b[0;34m.\u001b[0m\u001b[0mreshape\u001b[0m\u001b[0;34m(\u001b[0m\u001b[0mself\u001b[0m\u001b[0;34m.\u001b[0m\u001b[0mny\u001b[0m\u001b[0;34m,\u001b[0m \u001b[0mself\u001b[0m\u001b[0;34m.\u001b[0m\u001b[0mnx\u001b[0m\u001b[0;34m,\u001b[0m \u001b[0mself\u001b[0m\u001b[0;34m.\u001b[0m\u001b[0mnshifts\u001b[0m\u001b[0;34m)\u001b[0m\u001b[0;34m\u001b[0m\u001b[0;34m\u001b[0m\u001b[0m\n\u001b[0m\u001b[1;32m    563\u001b[0m \u001b[0;34m\u001b[0m\u001b[0m\n\u001b[1;32m    564\u001b[0m         \u001b[0;31m# Preparing the plot:\u001b[0m\u001b[0;34m\u001b[0m\u001b[0;34m\u001b[0m\u001b[0;34m\u001b[0m\u001b[0m\n",
      "\u001b[0;31mValueError\u001b[0m: cannot reshape array of size 58549260 into shape (326,209,1015)"
     ]
    }
   ],
   "source": [
    "sns.set_style(\"dark\")\n",
    "show1 = vis.ShowSelected(fff)\n",
    "show1.fig.set_size_inches(8, 6)"
   ]
  },
  {
   "cell_type": "code",
   "execution_count": 10,
   "id": "5714296d-5f3c-4836-9e4b-9ad8b155694e",
   "metadata": {},
   "outputs": [
    {
     "data": {
      "application/vnd.jupyter.widget-view+json": {
       "model_id": "836ebce186734c9a9dd37df4d65d3c88",
       "version_major": 2,
       "version_minor": 0
      },
      "text/plain": [
       "Canvas(toolbar=Toolbar(toolitems=[('Home', 'Reset original view', 'home', 'home'), ('Back', 'Back to previous …"
      ]
     },
     "metadata": {},
     "output_type": "display_data"
    }
   ],
   "source": [
    "fff.show_grid(alpha=0)"
   ]
  },
  {
   "cell_type": "code",
   "execution_count": 11,
   "id": "2b246357-5c80-48a3-8138-ebcf56856c56",
   "metadata": {},
   "outputs": [],
   "source": [
    "fff = pp.order(fff)\n"
   ]
  },
  {
   "cell_type": "code",
   "execution_count": 12,
   "id": "5edd8e4a-1884-4e74-a643-ef90edc40f72",
   "metadata": {},
   "outputs": [],
   "source": [
    "# =============================================================================\n",
    "#                                     PCA...\n",
    "# =============================================================================\n",
    "fff = pp.pca_clean(fff, n_components=21)"
   ]
  },
  {
   "cell_type": "code",
   "execution_count": 13,
   "id": "bbdf8714-1ea5-4707-aed0-948d13c20acf",
   "metadata": {},
   "outputs": [
    {
     "name": "stderr",
     "output_type": "stream",
     "text": [
      "/home/dejan/anaconda3/envs/Raman/lib/python3.8/site-packages/sklearn/decomposition/_nmf.py:1637: ConvergenceWarning: Maximum number of iterations 133 reached. Increase it to improve convergence.\n",
      "  warnings.warn(\n"
     ]
    }
   ],
   "source": [
    "fff.spectra /= np.sum(fff.spectra, axis=-1, keepdims=True)\n",
    "mix, components, reconstucted_spectra = cc.deconvolute_nmf(fff, 2, max_iter=133)\n",
    "\n",
    "# norma = np.linalg.norm(components, axis=-1, keepdims=True)\n",
    "norma = np.sum(components, axis=-1)[:, None]\n",
    "components /= norma\n",
    "mix *= norma.T"
   ]
  },
  {
   "cell_type": "code",
   "execution_count": 14,
   "id": "8007a93d-87ac-4683-ab75-9894301174c1",
   "metadata": {
    "jupyter": {
     "source_hidden": true
    },
    "tags": []
   },
   "outputs": [
    {
     "data": {
      "application/vnd.jupyter.widget-view+json": {
       "model_id": "96f28f092386494d80cf091949c0b704",
       "version_major": 2,
       "version_minor": 0
      },
      "text/plain": [
       "Canvas(toolbar=Toolbar(toolitems=[('Home', 'Reset original view', 'home', 'home'), ('Back', 'Back to previous …"
      ]
     },
     "metadata": {},
     "output_type": "display_data"
    }
   ],
   "source": [
    "_n_components = len(components)\n",
    "\n",
    "spectra_reconstructed = np.dot(mix, components)\n",
    "_mix_reshaped = mix.reshape(fff.n_y, fff.n_x, _n_components)\n",
    "\n",
    "col_norm = colors.Normalize(vmin=0, vmax=_n_components)\n",
    "color_set = ScalarMappable(norm=col_norm, cmap=\"brg\")\n",
    "\n",
    "# infer the number of subplots and their disposition from n_components\n",
    "fi, _ax = plt.subplots(int(np.floor(np.sqrt(_n_components))),\n",
    "                       int(np.ceil(_n_components /\n",
    "                                   np.floor(np.sqrt(_n_components))\n",
    "                                   )))\n",
    "if _n_components > 1:\n",
    "    _ax = _ax.ravel()\n",
    "else:\n",
    "    _ax = [_ax]\n",
    "for _i in range(_n_components):\n",
    "    _ax[_i].plot(fff.x_values, components[_i].T, color=color_set.to_rgba(_i))\n",
    "    _ax[_i].set_title(f'Component {_i}')\n",
    "    _ax[_i].set_yticks([])\n",
    "try:\n",
    "    fi.text(0.5, 0.04,\n",
    "            f\"{params['XlistDataType']} recordings\"\n",
    "            f\"in {params['XlistDataUnits']} units\",\n",
    "            ha='center')\n",
    "except:\n",
    "    pass"
   ]
  },
  {
   "cell_type": "code",
   "execution_count": 15,
   "id": "5d9de079-21bd-4645-96ce-c983728b0e93",
   "metadata": {
    "jupyter": {
     "source_hidden": true
    },
    "tags": []
   },
   "outputs": [
    {
     "data": {
      "application/vnd.jupyter.widget-view+json": {
       "model_id": "6a2a0baaf5c8456eb62f6a26ac2e21b8",
       "version_major": 2,
       "version_minor": 0
      },
      "text/plain": [
       "Canvas(toolbar=Toolbar(toolitems=[('Home', 'Reset original view', 'home', 'home'), ('Back', 'Back to previous …"
      ]
     },
     "metadata": {},
     "output_type": "display_data"
    },
    {
     "data": {
      "text/plain": [
       "9"
      ]
     },
     "execution_count": 15,
     "metadata": {},
     "output_type": "execute_result"
    }
   ],
   "source": [
    "# %%\n",
    "# =============================================================================\n",
    "#                       Plotting the main plot...(heatmap)\n",
    "# =============================================================================\n",
    "_start_pos = 0\n",
    "_n_fig_rows = int(np.floor(np.sqrt(_n_components)))\n",
    "_n_fig_cols = int(np.ceil(_n_components / np.floor(np.sqrt(_n_components))))\n",
    "\n",
    "fig = plt.figure()\n",
    "gs = gridspec.GridSpec(_n_fig_rows+1, _n_fig_cols, left=0.05, right=0.98, wspace=0.05)\n",
    "_ax=[]\n",
    "for i in range(_n_fig_rows):\n",
    "    for j in range(_n_fig_cols):\n",
    "        _ax.append(fig.add_subplot(gs[i, j]))\n",
    "if _n_components <= 1:\n",
    "    _ax = [_ax]\n",
    "ax_spectra = fig.add_subplot(gs[_n_fig_rows,:])\n",
    "spectra_flag = False\n",
    "def onclick(event):\n",
    "    '''Double-clicking on a pixel will show the (cleaned) spectrum\n",
    "    corresponding to that pixel, as well as its deconvolution on the components\n",
    "    and again the reconstruction for visual comparison'''\n",
    "    global ax_spectra, spectra_flag, sp_l, rs_l, c_l\n",
    "    if event.inaxes:\n",
    "        x_pos = round(event.xdata)\n",
    "        y_pos = round(event.ydata)\n",
    "        broj = round(y_pos*fff.n_x + x_pos)\n",
    "        spec_num = np.round(y_pos*fff.n_x - _start_pos + x_pos)\n",
    "        if spectra_flag:\n",
    "            if event.button!=1:\n",
    "                sp_l.set_ydata(fff.spectra[spec_num])\n",
    "                sp_l.set_label(f'(cleaned) spectrum n°{broj}')\n",
    "                rs_l.set_ydata(spectra_reconstructed[broj])\n",
    "                for k in range(_n_components):\n",
    "                    c_l[k].set_ydata(components[k]*mix[broj][k])\n",
    "                    c_l[k].set_label(f'C {k} = {100*mix[broj][k]/(np.sum(mix[broj])):.1f}%)')\n",
    " \n",
    "                ax_spectra.relim()\n",
    "                ax_spectra.legend()\n",
    "\n",
    "        elif event.button!=1:\n",
    "            spectra_flag = True\n",
    "            sp_l, = ax_spectra.plot(fff.x_values, fff.spectra[spec_num], 'o', alpha=0.3,\n",
    "                       label=f'(cleaned) spectrum n°{broj}')\n",
    "            rs_l, = ax_spectra.plot(fff.x_values, spectra_reconstructed[broj], '--k',\n",
    "                    label='reconstructed spectrum')\n",
    "            c_l = []\n",
    "            for k in range(_n_components):\n",
    "                c_l.append(*ax_spectra.plot(fff.x_values, components[k]*mix[broj][k],\n",
    "                        color=color_set.to_rgba(k),\n",
    "                        label=f'C {k} = {100*mix[broj][k]/(np.sum(mix[broj])):.1f}%)'))\n",
    "\n",
    "\n",
    "            ax_spectra.set_title(f'deconvolution of the spectrum from: '\n",
    "                         f'line {y_pos} & column {x_pos}')\n",
    "            ax_spectra.legend()\n",
    "            fig.show()\n",
    "    else:\n",
    "        pass\n",
    "\n",
    "for _i in range(_n_components):\n",
    "    sns.heatmap(_mix_reshaped[:, :, _i], ax=_ax[_i], cmap=\"jet\", annot=False)\n",
    "#    _ax[_i].set_aspect(_s_y/_s_x)\n",
    "    _ax[_i].set_title(f'Component {_i}', color=color_set.to_rgba(_i),\n",
    "                      fontweight='extra bold')\n",
    "fig.suptitle('Heatmaps showing the abundance of individual components'\n",
    "             ' throughout the scanned area.');\n",
    "fig.canvas.mpl_connect('button_press_event', onclick)"
   ]
  },
  {
   "cell_type": "code",
   "execution_count": 68,
   "id": "039bf9d1-4d45-4df7-9136-0648ac40824c",
   "metadata": {},
   "outputs": [],
   "source": [
    "ms = pd.read_csv(os.path.join(folder, \"Microsonde\", \"CSSC_1200_20.txt\"), delimiter=\"\\t\", encoding=\"iso-8859-1\")"
   ]
  },
  {
   "cell_type": "code",
   "execution_count": 57,
   "id": "df74a12e-4349-4d16-94ef-7252d499b895",
   "metadata": {},
   "outputs": [
    {
     "data": {
      "text/html": [
       "<div>\n",
       "<style scoped>\n",
       "    .dataframe tbody tr th:only-of-type {\n",
       "        vertical-align: middle;\n",
       "    }\n",
       "\n",
       "    .dataframe tbody tr th {\n",
       "        vertical-align: top;\n",
       "    }\n",
       "\n",
       "    .dataframe thead th {\n",
       "        text-align: right;\n",
       "    }\n",
       "</style>\n",
       "<table border=\"1\" class=\"dataframe\">\n",
       "  <thead>\n",
       "    <tr style=\"text-align: right;\">\n",
       "      <th></th>\n",
       "      <th>position (µm)</th>\n",
       "      <th>Na2O (wt%)</th>\n",
       "      <th>CaO (wt%)</th>\n",
       "      <th>Al2O3 (wt%)</th>\n",
       "      <th>SiO2 (wt%)</th>\n",
       "      <th>Total</th>\n",
       "      <th>Na2O /100 (wt%)</th>\n",
       "      <th>CaO /100 (wt%)</th>\n",
       "      <th>Al2O3 /100 (wt%)</th>\n",
       "      <th>SiO2 /100 (wt%)</th>\n",
       "      <th>Total /100</th>\n",
       "      <th>Na2O /100 (mol%)</th>\n",
       "      <th>CaO /100 (mol%)</th>\n",
       "      <th>Al2O3 /100 (mol%)</th>\n",
       "      <th>SiO2 /100 (mol%)</th>\n",
       "      <th>Total /100.1</th>\n",
       "    </tr>\n",
       "  </thead>\n",
       "  <tbody>\n",
       "    <tr>\n",
       "      <th>0</th>\n",
       "      <td>2320</td>\n",
       "      <td>18.76</td>\n",
       "      <td>11.07</td>\n",
       "      <td>5.40</td>\n",
       "      <td>64.74</td>\n",
       "      <td>99.97</td>\n",
       "      <td>18.77</td>\n",
       "      <td>11.07</td>\n",
       "      <td>5.40</td>\n",
       "      <td>64.76</td>\n",
       "      <td>100.00</td>\n",
       "      <td>18.56</td>\n",
       "      <td>12.11</td>\n",
       "      <td>3.25</td>\n",
       "      <td>66.08</td>\n",
       "      <td>100.0</td>\n",
       "    </tr>\n",
       "    <tr>\n",
       "      <th>1</th>\n",
       "      <td>2270</td>\n",
       "      <td>18.73</td>\n",
       "      <td>11.32</td>\n",
       "      <td>5.30</td>\n",
       "      <td>64.41</td>\n",
       "      <td>99.76</td>\n",
       "      <td>18.78</td>\n",
       "      <td>11.35</td>\n",
       "      <td>5.31</td>\n",
       "      <td>64.56</td>\n",
       "      <td>100.00</td>\n",
       "      <td>18.56</td>\n",
       "      <td>12.40</td>\n",
       "      <td>3.19</td>\n",
       "      <td>65.85</td>\n",
       "      <td>100.0</td>\n",
       "    </tr>\n",
       "    <tr>\n",
       "      <th>2</th>\n",
       "      <td>2220</td>\n",
       "      <td>18.76</td>\n",
       "      <td>11.34</td>\n",
       "      <td>5.36</td>\n",
       "      <td>64.19</td>\n",
       "      <td>99.65</td>\n",
       "      <td>18.83</td>\n",
       "      <td>11.38</td>\n",
       "      <td>5.38</td>\n",
       "      <td>64.42</td>\n",
       "      <td>100.00</td>\n",
       "      <td>18.62</td>\n",
       "      <td>12.44</td>\n",
       "      <td>3.23</td>\n",
       "      <td>65.71</td>\n",
       "      <td>100.0</td>\n",
       "    </tr>\n",
       "    <tr>\n",
       "      <th>3</th>\n",
       "      <td>2170</td>\n",
       "      <td>19.01</td>\n",
       "      <td>11.05</td>\n",
       "      <td>5.21</td>\n",
       "      <td>64.70</td>\n",
       "      <td>99.97</td>\n",
       "      <td>19.02</td>\n",
       "      <td>11.05</td>\n",
       "      <td>5.21</td>\n",
       "      <td>64.72</td>\n",
       "      <td>100.00</td>\n",
       "      <td>18.80</td>\n",
       "      <td>12.08</td>\n",
       "      <td>3.13</td>\n",
       "      <td>65.99</td>\n",
       "      <td>100.0</td>\n",
       "    </tr>\n",
       "    <tr>\n",
       "      <th>4</th>\n",
       "      <td>2120</td>\n",
       "      <td>18.89</td>\n",
       "      <td>11.08</td>\n",
       "      <td>5.29</td>\n",
       "      <td>64.15</td>\n",
       "      <td>99.42</td>\n",
       "      <td>19.00</td>\n",
       "      <td>11.14</td>\n",
       "      <td>5.32</td>\n",
       "      <td>64.52</td>\n",
       "      <td>99.99</td>\n",
       "      <td>18.79</td>\n",
       "      <td>12.18</td>\n",
       "      <td>3.20</td>\n",
       "      <td>65.83</td>\n",
       "      <td>100.0</td>\n",
       "    </tr>\n",
       "    <tr>\n",
       "      <th>...</th>\n",
       "      <td>...</td>\n",
       "      <td>...</td>\n",
       "      <td>...</td>\n",
       "      <td>...</td>\n",
       "      <td>...</td>\n",
       "      <td>...</td>\n",
       "      <td>...</td>\n",
       "      <td>...</td>\n",
       "      <td>...</td>\n",
       "      <td>...</td>\n",
       "      <td>...</td>\n",
       "      <td>...</td>\n",
       "      <td>...</td>\n",
       "      <td>...</td>\n",
       "      <td>...</td>\n",
       "      <td>...</td>\n",
       "    </tr>\n",
       "    <tr>\n",
       "      <th>76</th>\n",
       "      <td>-1480</td>\n",
       "      <td>14.47</td>\n",
       "      <td>16.26</td>\n",
       "      <td>5.21</td>\n",
       "      <td>64.17</td>\n",
       "      <td>100.11</td>\n",
       "      <td>14.45</td>\n",
       "      <td>16.24</td>\n",
       "      <td>5.20</td>\n",
       "      <td>64.10</td>\n",
       "      <td>100.00</td>\n",
       "      <td>14.21</td>\n",
       "      <td>17.65</td>\n",
       "      <td>3.11</td>\n",
       "      <td>65.02</td>\n",
       "      <td>100.0</td>\n",
       "    </tr>\n",
       "    <tr>\n",
       "      <th>77</th>\n",
       "      <td>-1530</td>\n",
       "      <td>14.42</td>\n",
       "      <td>16.19</td>\n",
       "      <td>5.14</td>\n",
       "      <td>63.68</td>\n",
       "      <td>99.42</td>\n",
       "      <td>14.50</td>\n",
       "      <td>16.28</td>\n",
       "      <td>5.17</td>\n",
       "      <td>64.05</td>\n",
       "      <td>100.01</td>\n",
       "      <td>14.26</td>\n",
       "      <td>17.69</td>\n",
       "      <td>3.09</td>\n",
       "      <td>64.96</td>\n",
       "      <td>100.0</td>\n",
       "    </tr>\n",
       "    <tr>\n",
       "      <th>78</th>\n",
       "      <td>-1580</td>\n",
       "      <td>14.41</td>\n",
       "      <td>16.11</td>\n",
       "      <td>5.26</td>\n",
       "      <td>64.42</td>\n",
       "      <td>100.21</td>\n",
       "      <td>14.38</td>\n",
       "      <td>16.08</td>\n",
       "      <td>5.25</td>\n",
       "      <td>64.29</td>\n",
       "      <td>99.99</td>\n",
       "      <td>14.15</td>\n",
       "      <td>17.48</td>\n",
       "      <td>3.14</td>\n",
       "      <td>65.24</td>\n",
       "      <td>100.0</td>\n",
       "    </tr>\n",
       "    <tr>\n",
       "      <th>79</th>\n",
       "      <td>-1630</td>\n",
       "      <td>14.34</td>\n",
       "      <td>16.06</td>\n",
       "      <td>5.31</td>\n",
       "      <td>63.60</td>\n",
       "      <td>99.31</td>\n",
       "      <td>14.44</td>\n",
       "      <td>16.17</td>\n",
       "      <td>5.35</td>\n",
       "      <td>64.04</td>\n",
       "      <td>100.00</td>\n",
       "      <td>14.21</td>\n",
       "      <td>17.59</td>\n",
       "      <td>3.20</td>\n",
       "      <td>65.01</td>\n",
       "      <td>100.0</td>\n",
       "    </tr>\n",
       "    <tr>\n",
       "      <th>80</th>\n",
       "      <td>-1680</td>\n",
       "      <td>14.25</td>\n",
       "      <td>16.37</td>\n",
       "      <td>5.33</td>\n",
       "      <td>64.20</td>\n",
       "      <td>100.14</td>\n",
       "      <td>14.23</td>\n",
       "      <td>16.35</td>\n",
       "      <td>5.32</td>\n",
       "      <td>64.11</td>\n",
       "      <td>100.01</td>\n",
       "      <td>14.00</td>\n",
       "      <td>17.77</td>\n",
       "      <td>3.18</td>\n",
       "      <td>65.05</td>\n",
       "      <td>100.0</td>\n",
       "    </tr>\n",
       "  </tbody>\n",
       "</table>\n",
       "<p>81 rows × 16 columns</p>\n",
       "</div>"
      ],
      "text/plain": [
       "    position (µm)  Na2O (wt%)  CaO (wt%)  Al2O3 (wt%)  SiO2 (wt%)   Total  \\\n",
       "0            2320       18.76      11.07         5.40       64.74   99.97   \n",
       "1            2270       18.73      11.32         5.30       64.41   99.76   \n",
       "2            2220       18.76      11.34         5.36       64.19   99.65   \n",
       "3            2170       19.01      11.05         5.21       64.70   99.97   \n",
       "4            2120       18.89      11.08         5.29       64.15   99.42   \n",
       "..            ...         ...        ...          ...         ...     ...   \n",
       "76          -1480       14.47      16.26         5.21       64.17  100.11   \n",
       "77          -1530       14.42      16.19         5.14       63.68   99.42   \n",
       "78          -1580       14.41      16.11         5.26       64.42  100.21   \n",
       "79          -1630       14.34      16.06         5.31       63.60   99.31   \n",
       "80          -1680       14.25      16.37         5.33       64.20  100.14   \n",
       "\n",
       "    Na2O /100 (wt%)  CaO /100 (wt%)  Al2O3 /100 (wt%)  SiO2 /100 (wt%)  \\\n",
       "0             18.77           11.07              5.40            64.76   \n",
       "1             18.78           11.35              5.31            64.56   \n",
       "2             18.83           11.38              5.38            64.42   \n",
       "3             19.02           11.05              5.21            64.72   \n",
       "4             19.00           11.14              5.32            64.52   \n",
       "..              ...             ...               ...              ...   \n",
       "76            14.45           16.24              5.20            64.10   \n",
       "77            14.50           16.28              5.17            64.05   \n",
       "78            14.38           16.08              5.25            64.29   \n",
       "79            14.44           16.17              5.35            64.04   \n",
       "80            14.23           16.35              5.32            64.11   \n",
       "\n",
       "    Total /100  Na2O /100 (mol%)  CaO /100 (mol%)  Al2O3 /100 (mol%)  \\\n",
       "0       100.00             18.56            12.11               3.25   \n",
       "1       100.00             18.56            12.40               3.19   \n",
       "2       100.00             18.62            12.44               3.23   \n",
       "3       100.00             18.80            12.08               3.13   \n",
       "4        99.99             18.79            12.18               3.20   \n",
       "..         ...               ...              ...                ...   \n",
       "76      100.00             14.21            17.65               3.11   \n",
       "77      100.01             14.26            17.69               3.09   \n",
       "78       99.99             14.15            17.48               3.14   \n",
       "79      100.00             14.21            17.59               3.20   \n",
       "80      100.01             14.00            17.77               3.18   \n",
       "\n",
       "    SiO2 /100 (mol%)  Total /100.1  \n",
       "0              66.08         100.0  \n",
       "1              65.85         100.0  \n",
       "2              65.71         100.0  \n",
       "3              65.99         100.0  \n",
       "4              65.83         100.0  \n",
       "..               ...           ...  \n",
       "76             65.02         100.0  \n",
       "77             64.96         100.0  \n",
       "78             65.24         100.0  \n",
       "79             65.01         100.0  \n",
       "80             65.05         100.0  \n",
       "\n",
       "[81 rows x 16 columns]"
      ]
     },
     "execution_count": 57,
     "metadata": {},
     "output_type": "execute_result"
    }
   ],
   "source": [
    "ms"
   ]
  },
  {
   "cell_type": "code",
   "execution_count": null,
   "id": "7a31b1e0-a26c-4117-b47d-22cdb4ac52d6",
   "metadata": {},
   "outputs": [],
   "source": []
  }
 ],
 "metadata": {
  "kernelspec": {
   "display_name": "Raman",
   "language": "python",
   "name": "raman"
  },
  "language_info": {
   "codemirror_mode": {
    "name": "ipython",
    "version": 3
   },
   "file_extension": ".py",
   "mimetype": "text/x-python",
   "name": "python",
   "nbconvert_exporter": "python",
   "pygments_lexer": "ipython3",
   "version": "3.8.11"
  }
 },
 "nbformat": 4,
 "nbformat_minor": 5
}
