{
 "cells": [
  {
   "cell_type": "code",
   "execution_count": 1,
   "id": "bcff1805-356b-49a7-9170-3a858a4b9e0f",
   "metadata": {},
   "outputs": [
    {
     "name": "stdout",
     "output_type": "stream",
     "text": [
      "0 )  exampleM1.wdf\n",
      "1 )  exampleA1.wdf\n",
      "2 )  exampleM2.wdf\n",
      "3 )  exampleM3.wdf\n",
      "4 )  exampleA2.wdf\n",
      "6 )  exampleM4.wdf\n"
     ]
    }
   ],
   "source": [
    "%matplotlib widget\n",
    "import os\n",
    "import numpy as np\n",
    "# from scipy import linalg, spatial, fft, signal\n",
    "# from sklearn.experimental import enable_iterative_imputer\n",
    "# from sklearn import metrics, decomposition, impute, preprocessing\n",
    "import matplotlib.pyplot as plt\n",
    "from matplotlib.cm import ScalarMappable\n",
    "from matplotlib import colors, gridspec\n",
    "import seaborn as sns\n",
    "# from matplotlib.patches import RegularPolygon, Rectangle\n",
    "# from PIL import Image, ExifTags, ImageFile\n",
    "import visualize as vis\n",
    "# import CR_search as cr\n",
    "import preprocessing as pp\n",
    "import calculate as cc\n",
    "from read_WDF_class import WDF\n",
    "\n",
    "# ImageFile.LOAD_TRUNCATED_IMAGES = True\n",
    "\n",
    "folder = os.path.expanduser(\"~/Documents/RamanData/\")\n",
    "subfolder = \"frejus21\"\n",
    "files = os.listdir(os.path.join(folder,subfolder))\n",
    "\n",
    "for i, tf in enumerate(files):\n",
    "    if tf[-3:] == 'wdf':\n",
    "        print(i, ') ', tf)  "
   ]
  },
  {
   "cell_type": "code",
   "execution_count": 2,
   "id": "a983a0d8-e833-4e2d-a8d9-a6a2a21da13d",
   "metadata": {},
   "outputs": [
    {
     "name": "stdout",
     "output_type": "stream",
     "text": [
      "Reading the file: \"exampleA1.wdf\"\n",
      "\n",
      "\n",
      "================================= Block : WDF1 =================================\n",
      "size: 512, offset: 0\n",
      "WdfFlag--------------------------------- : \tWdfXYXY\n",
      "PointsPerSpectrum----------------------- : \t1015\n",
      "Capacity-------------------------------- : \t2006\n",
      "Count----------------------------------- : \t2006\n",
      "AccumulationCount----------------------- : \t1\n",
      "YlistLength----------------------------- : \t1\n",
      "XlistLength----------------------------- : \t1015\n",
      "DataOriginCount------------------------- : \t9\n",
      "ApplicationName------------------------- : \tWiRE\n",
      "ApplicationVersion---------------------- : \t5.3.0 build 16195\n",
      "ScanType-------------------------------- : \tStreamLineHR\n",
      "MeasurementType------------------------- : \tMap\n",
      "StartTime------------------------------- : \tMon Jun 21 08:06:02 2021\n",
      "EndTime--------------------------------- : \tMon Jun 21 12:35:25 2021\n",
      "SpectralUnits--------------------------- : \tCounts\n",
      "LaserWaveLength------------------------- : \t532.06\n",
      "Title----------------------------------- : \tStreamHR image acquisition\n",
      "\n",
      "================================= Block : WMAP =================================\n",
      "size: 64, offset: 8702361\n",
      "MapAreaType----------------------------- : \tRandomPoints\n",
      "InitialCoordinates---------------------- : \t[-28.4 -16.4   0. ]\n",
      "StepSizes------------------------------- : \t[1. 1. 1.]\n",
      "NbSteps--------------------------------- : \t[59 34  1]\n",
      "LineFocusSize--------------------------- : \t0\n",
      "\n",
      "================================= Block : DATA =================================\n",
      "size: 8144376, offset: 512\n",
      "The number of spectra------------------- : \t2006\n",
      "The number of points in each spectra---- : \t1015\n",
      "\n",
      "================================= Block : XLST =================================\n",
      "size: 4084, offset: 8144916\n",
      "The shape of the x_values is------------ : \t(1015,)\n",
      "*These are the \"Spectral\" recordings in \"RamanShift\" units\n",
      "\n",
      "================================= Block : YLST =================================\n",
      "size: 28, offset: 8144888\n",
      "*Nothing here.\n",
      "\n",
      "================================= Block : WHTL =================================\n",
      "size: 87431, offset: 8614930\n",
      "\n",
      "================================= Block : ORGN =================================\n",
      "size: 144668, offset: 8151949\n",
      "\n",
      "\n",
      "\n",
      "\n"
     ]
    }
   ],
   "source": [
    "file = files[1]\n",
    "filename = os.path.join(folder,subfolder,file)\n",
    "\n",
    "fff = WDF(filename, verbose=True)"
   ]
  },
  {
   "cell_type": "markdown",
   "id": "576dfb08-9acd-4b9b-b426-8c4457a146e3",
   "metadata": {},
   "source": [
    "### Here are some of the treatments you might apply to your input spectra:\n",
    "Do this first:\n",
    "```python\n",
    "fff = pp.order(fff)\n",
    "```\n",
    "Normalizing:\n",
    "```python\n",
    "fff = pp.normalize(fff)\n",
    "```\n",
    "Selecting the zone of interest:\n",
    "```python\n",
    "fff = pp.select_zone(fff, left=125, right=None)\n",
    "```\n",
    "Removing the Cosmic Rays:\n",
    "```python\n",
    "fff = pp.remove_CRs(fff)\n",
    "```\n",
    "Removing the baseline:\n",
    "(don't do this on the cloud!)\n",
    "```python\n",
    "baseline = cc.baseline_als(fff.spectra, p=0.001)\n",
    "```\n",
    "Clean the spectra with the PCA:\n",
    "```python\n",
    "fff = pp.pca_clean(fff, n_components=21)\n",
    "```"
   ]
  },
  {
   "cell_type": "code",
   "execution_count": 3,
   "id": "56634b3c",
   "metadata": {},
   "outputs": [
    {
     "data": {
      "application/vnd.jupyter.widget-view+json": {
       "model_id": "b4ab7c1144354c9899a1f7ea81f3268b",
       "version_major": 2,
       "version_minor": 0
      },
      "text/plain": [
       "Canvas(toolbar=Toolbar(toolitems=[('Home', 'Reset original view', 'home', 'home'), ('Back', 'Back to previous …"
      ]
     },
     "metadata": {},
     "output_type": "display_data"
    }
   ],
   "source": [
    "sns.set_style(\"dark\")\n",
    "show1 = vis.ShowSelected(fff)\n",
    "show1.fig.set_size_inches(8, 6)"
   ]
  },
  {
   "cell_type": "code",
   "execution_count": 4,
   "id": "a73bb1d7-a6be-4034-b125-41b8e6cff335",
   "metadata": {},
   "outputs": [
    {
     "data": {
      "application/vnd.jupyter.widget-view+json": {
       "model_id": "b37b0c41660443ea8aa7d65ffcf9a0fc",
       "version_major": 2,
       "version_minor": 0
      },
      "text/plain": [
       "Canvas(toolbar=Toolbar(toolitems=[('Home', 'Reset original view', 'home', 'home'), ('Back', 'Back to previous …"
      ]
     },
     "metadata": {},
     "output_type": "display_data"
    }
   ],
   "source": [
    "fff.show_grid(alpha=0.3)"
   ]
  },
  {
   "cell_type": "code",
   "execution_count": 5,
   "id": "c0077eea-d425-427b-b633-f92b19438d1e",
   "metadata": {},
   "outputs": [
    {
     "data": {
      "application/vnd.jupyter.widget-view+json": {
       "model_id": "b1f047e3545043dfb02be575ab13a08a",
       "version_major": 2,
       "version_minor": 0
      },
      "text/plain": [
       "Canvas(toolbar=Toolbar(toolitems=[('Home', 'Reset original view', 'home', 'home'), ('Back', 'Back to previous …"
      ]
     },
     "metadata": {},
     "output_type": "display_data"
    }
   ],
   "source": [
    "vis.AllMaps(fff);"
   ]
  },
  {
   "cell_type": "code",
   "execution_count": 4,
   "id": "2b246357-5c80-48a3-8138-ebcf56856c56",
   "metadata": {},
   "outputs": [],
   "source": [
    "fff = pp.remove_CRs(fff)"
   ]
  },
  {
   "cell_type": "code",
   "execution_count": 5,
   "id": "5edd8e4a-1884-4e74-a643-ef90edc40f72",
   "metadata": {},
   "outputs": [],
   "source": [
    "# =============================================================================\n",
    "#                                     PCA...\n",
    "# =============================================================================\n",
    "fff = pp.pca_clean(fff, n_components=25)"
   ]
  },
  {
   "cell_type": "code",
   "execution_count": 6,
   "id": "846fa5b8-4961-45ac-a58d-5405ad6b98d6",
   "metadata": {},
   "outputs": [],
   "source": [
    "fff = pp.normalize(fff)"
   ]
  },
  {
   "cell_type": "code",
   "execution_count": 7,
   "id": "a2876188-5a34-4a29-8808-00703f4342c4",
   "metadata": {},
   "outputs": [
    {
     "name": "stderr",
     "output_type": "stream",
     "text": [
      "/home/dejan/anaconda3/envs/Raman/lib/python3.8/site-packages/sklearn/decomposition/_nmf.py:1637: ConvergenceWarning: Maximum number of iterations 7 reached. Increase it to improve convergence.\n",
      "  warnings.warn(\n"
     ]
    }
   ],
   "source": [
    "mix, components, reconstucted_spectra = cc.deconvolute_nmf(fff, 4)"
   ]
  },
  {
   "cell_type": "code",
   "execution_count": 8,
   "id": "8007a93d-87ac-4683-ab75-9894301174c1",
   "metadata": {},
   "outputs": [
    {
     "data": {
      "application/vnd.jupyter.widget-view+json": {
       "model_id": "0d5666cd4f794f899f680021444ad41d",
       "version_major": 2,
       "version_minor": 0
      },
      "text/plain": [
       "Canvas(toolbar=Toolbar(toolitems=[('Home', 'Reset original view', 'home', 'home'), ('Back', 'Back to previous …"
      ]
     },
     "metadata": {},
     "output_type": "display_data"
    }
   ],
   "source": [
    "_n_components = len(components)\n",
    "_comp_area = np.empty(_n_components)\n",
    "for _z in range(_n_components):\n",
    "    # area beneath each component:\n",
    "    _comp_area[_z] = np.trapz(components[_z])#, x=fff.x_values)\n",
    "    components[_z] /= _comp_area[_z]  # normalizing the components by area\n",
    "    # renormalizing the mixture coefficients:\n",
    "    mix[:, _z] *= _comp_area[np.newaxis, _z]\n",
    "mix /= np.sum(mix, axis=-1)[:,np.newaxis]\n",
    "spectra_reconstructed = np.dot(mix, components)\n",
    "_mix_reshaped = mix.reshape(fff.n_y, fff.n_x, _n_components)\n",
    "\n",
    "col_norm = colors.Normalize(vmin=0, vmax=_n_components)\n",
    "color_set = ScalarMappable(norm=col_norm, cmap=\"brg\")\n",
    "\n",
    "# infer the number of subplots and their disposition from n_components\n",
    "fi, _ax = plt.subplots(int(np.floor(np.sqrt(_n_components))),\n",
    "                       int(np.ceil(_n_components /\n",
    "                                   np.floor(np.sqrt(_n_components))\n",
    "                                   )))\n",
    "if _n_components > 1:\n",
    "    _ax = _ax.ravel()\n",
    "else:\n",
    "    _ax = [_ax]\n",
    "for _i in range(_n_components):\n",
    "    _ax[_i].plot(fff.x_values, components[_i].T, color=color_set.to_rgba(_i))\n",
    "    _ax[_i].set_title(f'Component {_i}')\n",
    "    _ax[_i].set_yticks([])\n",
    "try:\n",
    "    fi.text(0.5, 0.04,\n",
    "            f\"{params['XlistDataType']} recordings\"\n",
    "            f\"in {params['XlistDataUnits']} units\",\n",
    "            ha='center')\n",
    "except:\n",
    "    pass"
   ]
  },
  {
   "cell_type": "code",
   "execution_count": 9,
   "id": "5d9de079-21bd-4645-96ce-c983728b0e93",
   "metadata": {
    "jupyter": {
     "source_hidden": true
    },
    "tags": []
   },
   "outputs": [
    {
     "data": {
      "application/vnd.jupyter.widget-view+json": {
       "model_id": "577eba9daa1948b89853ae79a17b7c60",
       "version_major": 2,
       "version_minor": 0
      },
      "text/plain": [
       "Canvas(toolbar=Toolbar(toolitems=[('Home', 'Reset original view', 'home', 'home'), ('Back', 'Back to previous …"
      ]
     },
     "metadata": {},
     "output_type": "display_data"
    },
    {
     "data": {
      "text/plain": [
       "9"
      ]
     },
     "execution_count": 9,
     "metadata": {},
     "output_type": "execute_result"
    }
   ],
   "source": [
    "# %%\n",
    "# =============================================================================\n",
    "#                       Plotting the main plot...(heatmap)\n",
    "# =============================================================================\n",
    "_start_pos = 0\n",
    "_n_fig_rows = int(np.floor(np.sqrt(_n_components)))\n",
    "_n_fig_cols = int(np.ceil(_n_components / np.floor(np.sqrt(_n_components))))\n",
    "gs1 = gridspec.GridSpec(_n_fig_rows, _n_fig_cols, left=0.05, right=0.48, wspace=0.05)\n",
    "fig, _ax = plt.subplots(_n_fig_rows, _n_fig_cols,\n",
    "                        sharex=True, sharey=True)\n",
    "if _n_components > 1:\n",
    "    _ax = _ax.ravel()\n",
    "else:\n",
    "    _ax = [_ax]\n",
    "\n",
    "\n",
    "def onclick(event):\n",
    "    '''Double-clicking on a pixel will show the (cleaned) spectrum\n",
    "    corresponding to that pixel, as well as its deconvolution on the components\n",
    "    and again the reconstruction for visual comparison'''\n",
    "    if event.inaxes:\n",
    "        x_pos = round(event.xdata)\n",
    "        y_pos = round(event.ydata)\n",
    "        broj = round(y_pos*fff.n_x + x_pos)\n",
    "        spec_num = np.round(y_pos*fff.n_x - _start_pos + x_pos)\n",
    "\n",
    "        if event.button!=1:\n",
    "            ff, aa = plt.subplots()\n",
    "            aa.scatter(fff.x_values, fff.spectra[spec_num], alpha=0.3,\n",
    "                       label=f'(cleaned) spectrum n°{broj}')\n",
    "            aa.plot(fff.x_values, spectra_reconstructed[broj], '--k',\n",
    "                    label='reconstructed spectrum')\n",
    "            for k in range(_n_components):\n",
    "                aa.plot(fff.x_values, components[k]*mix[broj][k],\n",
    "                        color=color_set.to_rgba(k),\n",
    "                        label=f'Component {k} contribution'\n",
    "                              f'({mix[broj][k]*100:.1f}%)')\n",
    "\n",
    "# This next part is to reorganize the order of labels,\n",
    "# so to put the scatter plot first\n",
    "            handles, labels = aa.get_legend_handles_labels()\n",
    "            order = list(np.arange(_n_components+2))\n",
    "            new_order = [order[-1]]+order[:-1]\n",
    "            aa.legend([handles[idx] for idx in new_order],\n",
    "                      [labels[idx] for idx in new_order])\n",
    "            aa.set_title(f'deconvolution of the spectrum from: '\n",
    "                         f'line {y_pos} & column {x_pos}')\n",
    "            ff.show()\n",
    "    else:\n",
    "        print(\"you clicked outside the canvas, you bastard :)\")\n",
    "\n",
    "\n",
    "_xcolumn_name = 'X (Micron)'\n",
    "_ycolumn_name = 'Y (Micron)'\n",
    "\n",
    "#################################################################################\n",
    "############## This formatting should be adapted case by case ###################\n",
    "try:\n",
    "    _y_ticks = [str(int(x/1000))+'mm' for x in\n",
    "                np.asarray(origins[_ycolumn_name].iloc[:fff.n_x*fff.n_y:fff.n_x])]\n",
    "    _x_ticks = [str(int(x/1000))+'mm' for x in\n",
    "                np.asarray(origins[_xcolumn_name].iloc[:fff.n_x])]\n",
    "except:\n",
    "    pass\n",
    "#################################################################################\n",
    "\n",
    "\n",
    "for _i in range(_n_components):\n",
    "    sns.heatmap(_mix_reshaped[:, :, _i], ax=_ax[_i], cmap=\"jet\", annot=False)\n",
    "#    _ax[_i].set_aspect(_s_y/_s_x)\n",
    "    _ax[_i].set_title(f'Component {_i}', color=color_set.to_rgba(_i),\n",
    "                      fontweight='extra bold')\n",
    "fig.suptitle('Heatmaps showing the abundance of individual components'\n",
    "             ' throughout the scanned area.')\n",
    "fig.canvas.mpl_connect('button_press_event', onclick)"
   ]
  },
  {
   "cell_type": "code",
   "execution_count": 42,
   "id": "60624dd9-66f5-4744-acb6-066e155b1499",
   "metadata": {},
   "outputs": [],
   "source": [
    "plt.close('all')"
   ]
  },
  {
   "cell_type": "code",
   "execution_count": null,
   "id": "e416d88a-1bb7-439b-865b-47b12ccd8149",
   "metadata": {},
   "outputs": [],
   "source": []
  }
 ],
 "metadata": {
  "kernelspec": {
   "display_name": "Raman",
   "language": "python",
   "name": "raman"
  },
  "language_info": {
   "codemirror_mode": {
    "name": "ipython",
    "version": 3
   },
   "file_extension": ".py",
   "mimetype": "text/x-python",
   "name": "python",
   "nbconvert_exporter": "python",
   "pygments_lexer": "ipython3",
   "version": "3.8.11"
  }
 },
 "nbformat": 4,
 "nbformat_minor": 5
}
